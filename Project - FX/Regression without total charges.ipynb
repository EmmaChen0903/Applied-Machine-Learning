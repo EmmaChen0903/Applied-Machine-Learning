{
 "cells": [
  {
   "cell_type": "markdown",
   "id": "e2a71e0c",
   "metadata": {},
   "source": [
    "### Load Data and further processing"
   ]
  },
  {
   "cell_type": "code",
   "execution_count": 1,
   "id": "1f21e77f",
   "metadata": {},
   "outputs": [
    {
     "name": "stderr",
     "output_type": "stream",
     "text": [
      "C:\\Users\\fx.chen.2021\\Anaconda3\\lib\\site-packages\\scipy\\__init__.py:146: UserWarning: A NumPy version >=1.16.5 and <1.23.0 is required for this version of SciPy (detected version 1.26.1\n",
      "  warnings.warn(f\"A NumPy version >={np_minversion} and <{np_maxversion}\"\n"
     ]
    },
    {
     "name": "stdout",
     "output_type": "stream",
     "text": [
      "WARNING:tensorflow:From C:\\Users\\fx.chen.2021\\Anaconda3\\lib\\site-packages\\keras\\src\\losses.py:2976: The name tf.losses.sparse_softmax_cross_entropy is deprecated. Please use tf.compat.v1.losses.sparse_softmax_cross_entropy instead.\n",
      "\n"
     ]
    }
   ],
   "source": [
    "import os\n",
    "import time\n",
    "import random\n",
    "import tensorflow as tf\n",
    "import numpy as np\n",
    "import pandas as pd\n",
    "from matplotlib import pyplot as plt\n",
    "\n",
    "from sklearn.preprocessing import LabelEncoder\n",
    "from tensorflow.keras import optimizers, metrics\n",
    "from tensorflow.keras.layers import Dense\n",
    "from tensorflow.keras.models import load_model\n",
    "from sklearn import model_selection, preprocessing, metrics, feature_extraction, datasets"
   ]
  },
  {
   "cell_type": "code",
   "execution_count": 2,
   "id": "620874fe",
   "metadata": {},
   "outputs": [],
   "source": [
    "import pandas as pd\n",
    "import os\n",
    "from sklearn.impute import SimpleImputer\n",
    "from imblearn.over_sampling import SMOTE\n",
    "\n",
    "# make sure that the helpers6.py and dataset_path.py files are in the same folder as this jupyter notebook\n",
    "from helpers6 import *"
   ]
  },
  {
   "cell_type": "code",
   "execution_count": 15,
   "id": "a1b041e4",
   "metadata": {},
   "outputs": [
    {
     "data": {
      "text/html": [
       "<div>\n",
       "<style scoped>\n",
       "    .dataframe tbody tr th:only-of-type {\n",
       "        vertical-align: middle;\n",
       "    }\n",
       "\n",
       "    .dataframe tbody tr th {\n",
       "        vertical-align: top;\n",
       "    }\n",
       "\n",
       "    .dataframe thead th {\n",
       "        text-align: right;\n",
       "    }\n",
       "</style>\n",
       "<table border=\"1\" class=\"dataframe\">\n",
       "  <thead>\n",
       "    <tr style=\"text-align: right;\">\n",
       "      <th></th>\n",
       "      <th>Gender</th>\n",
       "      <th>Senior Citizen</th>\n",
       "      <th>Partner</th>\n",
       "      <th>Dependents</th>\n",
       "      <th>Tenure Months</th>\n",
       "      <th>Phone Service</th>\n",
       "      <th>Multiple Lines</th>\n",
       "      <th>Internet Service</th>\n",
       "      <th>Online Security</th>\n",
       "      <th>Online Backup</th>\n",
       "      <th>...</th>\n",
       "      <th>Streaming TV</th>\n",
       "      <th>Streaming Movies</th>\n",
       "      <th>Contract</th>\n",
       "      <th>Paperless Billing</th>\n",
       "      <th>Payment Method</th>\n",
       "      <th>Monthly Charges</th>\n",
       "      <th>Total Charges</th>\n",
       "      <th>Churn Value</th>\n",
       "      <th>CLTV</th>\n",
       "      <th>Income per capita</th>\n",
       "    </tr>\n",
       "  </thead>\n",
       "  <tbody>\n",
       "    <tr>\n",
       "      <th>0</th>\n",
       "      <td>1</td>\n",
       "      <td>0</td>\n",
       "      <td>0</td>\n",
       "      <td>0</td>\n",
       "      <td>-1.236724</td>\n",
       "      <td>1</td>\n",
       "      <td>0</td>\n",
       "      <td>0</td>\n",
       "      <td>2</td>\n",
       "      <td>2</td>\n",
       "      <td>...</td>\n",
       "      <td>0</td>\n",
       "      <td>0</td>\n",
       "      <td>0</td>\n",
       "      <td>1</td>\n",
       "      <td>3</td>\n",
       "      <td>-0.362660</td>\n",
       "      <td>-0.959674</td>\n",
       "      <td>1</td>\n",
       "      <td>-0.981675</td>\n",
       "      <td>0.171608</td>\n",
       "    </tr>\n",
       "    <tr>\n",
       "      <th>1</th>\n",
       "      <td>0</td>\n",
       "      <td>0</td>\n",
       "      <td>0</td>\n",
       "      <td>1</td>\n",
       "      <td>-1.236724</td>\n",
       "      <td>1</td>\n",
       "      <td>0</td>\n",
       "      <td>1</td>\n",
       "      <td>0</td>\n",
       "      <td>0</td>\n",
       "      <td>...</td>\n",
       "      <td>0</td>\n",
       "      <td>0</td>\n",
       "      <td>0</td>\n",
       "      <td>1</td>\n",
       "      <td>2</td>\n",
       "      <td>0.197365</td>\n",
       "      <td>-0.940470</td>\n",
       "      <td>1</td>\n",
       "      <td>-1.436462</td>\n",
       "      <td>0.171608</td>\n",
       "    </tr>\n",
       "    <tr>\n",
       "      <th>2</th>\n",
       "      <td>0</td>\n",
       "      <td>0</td>\n",
       "      <td>0</td>\n",
       "      <td>1</td>\n",
       "      <td>-0.992402</td>\n",
       "      <td>1</td>\n",
       "      <td>2</td>\n",
       "      <td>1</td>\n",
       "      <td>0</td>\n",
       "      <td>0</td>\n",
       "      <td>...</td>\n",
       "      <td>2</td>\n",
       "      <td>2</td>\n",
       "      <td>0</td>\n",
       "      <td>1</td>\n",
       "      <td>2</td>\n",
       "      <td>1.159546</td>\n",
       "      <td>-0.645186</td>\n",
       "      <td>1</td>\n",
       "      <td>0.821409</td>\n",
       "      <td>0.171608</td>\n",
       "    </tr>\n",
       "    <tr>\n",
       "      <th>3</th>\n",
       "      <td>0</td>\n",
       "      <td>0</td>\n",
       "      <td>1</td>\n",
       "      <td>1</td>\n",
       "      <td>-0.177995</td>\n",
       "      <td>1</td>\n",
       "      <td>2</td>\n",
       "      <td>1</td>\n",
       "      <td>0</td>\n",
       "      <td>0</td>\n",
       "      <td>...</td>\n",
       "      <td>2</td>\n",
       "      <td>2</td>\n",
       "      <td>0</td>\n",
       "      <td>1</td>\n",
       "      <td>2</td>\n",
       "      <td>1.330711</td>\n",
       "      <td>0.337349</td>\n",
       "      <td>1</td>\n",
       "      <td>0.509483</td>\n",
       "      <td>0.171608</td>\n",
       "    </tr>\n",
       "    <tr>\n",
       "      <th>4</th>\n",
       "      <td>1</td>\n",
       "      <td>0</td>\n",
       "      <td>0</td>\n",
       "      <td>1</td>\n",
       "      <td>0.677133</td>\n",
       "      <td>1</td>\n",
       "      <td>2</td>\n",
       "      <td>1</td>\n",
       "      <td>0</td>\n",
       "      <td>2</td>\n",
       "      <td>...</td>\n",
       "      <td>2</td>\n",
       "      <td>2</td>\n",
       "      <td>0</td>\n",
       "      <td>1</td>\n",
       "      <td>0</td>\n",
       "      <td>1.294151</td>\n",
       "      <td>1.216004</td>\n",
       "      <td>1</td>\n",
       "      <td>0.794358</td>\n",
       "      <td>0.171608</td>\n",
       "    </tr>\n",
       "  </tbody>\n",
       "</table>\n",
       "<p>5 rows × 22 columns</p>\n",
       "</div>"
      ],
      "text/plain": [
       "   Gender  Senior Citizen  Partner  Dependents  Tenure Months  Phone Service  \\\n",
       "0       1               0        0           0      -1.236724              1   \n",
       "1       0               0        0           1      -1.236724              1   \n",
       "2       0               0        0           1      -0.992402              1   \n",
       "3       0               0        1           1      -0.177995              1   \n",
       "4       1               0        0           1       0.677133              1   \n",
       "\n",
       "   Multiple Lines  Internet Service  Online Security  Online Backup  ...  \\\n",
       "0               0                 0                2              2  ...   \n",
       "1               0                 1                0              0  ...   \n",
       "2               2                 1                0              0  ...   \n",
       "3               2                 1                0              0  ...   \n",
       "4               2                 1                0              2  ...   \n",
       "\n",
       "   Streaming TV  Streaming Movies  Contract  Paperless Billing  \\\n",
       "0             0                 0         0                  1   \n",
       "1             0                 0         0                  1   \n",
       "2             2                 2         0                  1   \n",
       "3             2                 2         0                  1   \n",
       "4             2                 2         0                  1   \n",
       "\n",
       "   Payment Method  Monthly Charges  Total Charges  Churn Value      CLTV  \\\n",
       "0               3        -0.362660      -0.959674            1 -0.981675   \n",
       "1               2         0.197365      -0.940470            1 -1.436462   \n",
       "2               2         1.159546      -0.645186            1  0.821409   \n",
       "3               2         1.330711       0.337349            1  0.509483   \n",
       "4               0         1.294151       1.216004            1  0.794358   \n",
       "\n",
       "   Income per capita  \n",
       "0           0.171608  \n",
       "1           0.171608  \n",
       "2           0.171608  \n",
       "3           0.171608  \n",
       "4           0.171608  \n",
       "\n",
       "[5 rows x 22 columns]"
      ]
     },
     "execution_count": 15,
     "metadata": {},
     "output_type": "execute_result"
    }
   ],
   "source": [
    "data = pd.read_csv('data/final_data.csv')\n",
    "data.head()"
   ]
  },
  {
   "cell_type": "code",
   "execution_count": 16,
   "id": "e7999a91",
   "metadata": {},
   "outputs": [],
   "source": [
    "#drop highly correlated column 'Total Charges' for regression\n",
    "data=data.drop(['Total Charges'],axis=1)"
   ]
  },
  {
   "cell_type": "code",
   "execution_count": 18,
   "id": "68068879",
   "metadata": {},
   "outputs": [],
   "source": [
    "confidence_interval = 95\n",
    "random_seed = 2024"
   ]
  },
  {
   "cell_type": "code",
   "execution_count": 19,
   "id": "65184a9d",
   "metadata": {},
   "outputs": [],
   "source": [
    "x = data.drop('Churn Value', axis = 1).values\n",
    "y = data['Churn Value'].values\n",
    "\n",
    "smote = SMOTE(sampling_strategy = 1)\n",
    "x,y = smote.fit_resample(x, y)"
   ]
  },
  {
   "cell_type": "code",
   "execution_count": 20,
   "id": "936bdacc",
   "metadata": {},
   "outputs": [],
   "source": [
    "columns = data.columns.tolist()\n",
    "resampled_df = pd.DataFrame(x, columns=columns[:-1])"
   ]
  },
  {
   "cell_type": "code",
   "execution_count": 21,
   "id": "023f5b90",
   "metadata": {},
   "outputs": [],
   "source": [
    "#Split train and test set:\n",
    "x_train, x_test, y_train, y_test = model_selection.train_test_split(x, y, random_state =random_seed, test_size = 0.2)"
   ]
  },
  {
   "cell_type": "code",
   "execution_count": 22,
   "id": "a71c64b9",
   "metadata": {},
   "outputs": [],
   "source": [
    "result_list = []"
   ]
  },
  {
   "cell_type": "markdown",
   "id": "d4dcdade",
   "metadata": {},
   "source": [
    "### Logistic Regression"
   ]
  },
  {
   "cell_type": "code",
   "execution_count": 10,
   "id": "b188300c",
   "metadata": {},
   "outputs": [
    {
     "name": "stdout",
     "output_type": "stream",
     "text": [
      "Logistic Regression:\n",
      "Training time: 0.06732177734375 seconds\n",
      "AUC: 0.8663370681605977\n",
      "AUPRC: 0.8453452847824954\n",
      "Sensitivity: 0.8\n",
      "Specificity: 0.7784313725490196\n",
      "Score thresold: 0.5422591100808883\n",
      "2.5 97.5\n"
     ]
    },
    {
     "data": {
      "image/png": "[encoded data removed]",
      "text/plain": [
       "<Figure size 432x288 with 1 Axes>"
      ]
     },
     "metadata": {
      "needs_background": "light"
     },
     "output_type": "display_data"
    },
    {
     "data": {
      "image/png": "[encoded data removed]",
      "text/plain": [
       "<Figure size 432x288 with 1 Axes>"
      ]
     },
     "metadata": {
      "needs_background": "light"
     },
     "output_type": "display_data"
    }
   ],
   "source": [
    "print(\"Logistic Regression:\")\n",
    "from sklearn.linear_model import LogisticRegression\n",
    "logreg=LogisticRegression(random_state=random_seed)\n",
    "start = time.time()\n",
    "logreg.fit(x_train,y_train)\n",
    "runtime = time.time()-start\n",
    "import pickle\n",
    "with open('task1_logreg.pickle', 'wb') as model_dump:\n",
    "    pickle.dump(logreg, model_dump)\n",
    "print('Training time:', runtime, 'seconds')\n",
    "probs = logreg.predict_proba(x_test)\n",
    "result = PlotROCCurve(probs[:,1],y_test, ci=confidence_interval, random_seed=random_seed)\n",
    "\n",
    "results = [\"LR\"]\n",
    "results.extend(result)\n",
    "results.append(runtime)\n",
    "result_list.append(results)\n"
   ]
  },
  {
   "cell_type": "code",
   "execution_count": null,
   "id": "14014fe9",
   "metadata": {},
   "outputs": [],
   "source": []
  }
 ],
 "metadata": {
  "kernelspec": {
   "display_name": "Python 3 (ipykernel)",
   "language": "python",
   "name": "python3"
  },
  "language_info": {
   "codemirror_mode": {
    "name": "ipython",
    "version": 3
   },
   "file_extension": ".py",
   "mimetype": "text/x-python",
   "name": "python",
   "nbconvert_exporter": "python",
   "pygments_lexer": "ipython3",
   "version": "3.9.7"
  }
 },
 "nbformat": 4,
 "nbformat_minor": 5
}
